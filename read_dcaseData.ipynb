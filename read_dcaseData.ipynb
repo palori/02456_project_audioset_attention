{
 "cells": [
  {
   "cell_type": "code",
   "execution_count": null,
   "metadata": {
    "scrolled": false
   },
   "outputs": [],
   "source": [
    "import pandas as pd\n",
    "import numpy as np\n",
    "import matplotlib.pyplot as plt\n",
    "%matplotlib inline\n",
    "#notebook\n",
    "from IPython.display import display\n",
    "pd.options.display.max_columns = None\n",
    "pd.options.display.max_rows = None\n",
    "import os\n",
    "\n",
    "#### Get all files of this path\n",
    "path = '../dcase2018_baseline/task4/dataset/metadata/'\n",
    "\n",
    "def get_dir_files(path):\n",
    "    files = []\n",
    "    for (dirpath, dirnames, filenames) in os.walk(path):\n",
    "        direc = dirpath.split('/')[-1]\n",
    "        files.extend([direc+'/'+file for file in filenames])\n",
    "    print('get_dir_files\\nFiles: ',files)\n",
    "    return files\n",
    "\n",
    "files = get_dir_files(path)\n",
    "#### For each file, print its: name, header and shape\n",
    "#files = ['eval/eval.csv']\n",
    "\n",
    "def read_files(path, files, print_info=False):\n",
    "    data = {}\n",
    "    for f in files:\n",
    "        file_name = path+f\n",
    "        meta_data = pd.read_csv(file_name,delimiter='\\t',header=0)\n",
    "        data[f] = meta_data\n",
    "        if print_info:\n",
    "            print('\\n*************************\\n'+f)\n",
    "            print(meta_data.head())\n",
    "            print(meta_data.shape)\n",
    "    return data\n",
    "        \n",
    "data = read_files(path, files, True)\n",
    "#print(data.keys())"
   ]
  },
  {
   "cell_type": "code",
   "execution_count": null,
   "metadata": {},
   "outputs": [],
   "source": [
    "# saving the video ID's in a np.array for each file\n",
    "def get_video_ids(data):\n",
    "    video_ids = {}\n",
    "    for k in data.keys():\n",
    "        # All YouTuBe video ID's consist of 11 characters, never consider the first 'Y'\n",
    "        video_ids[k] = np.array([md[1:12] for md in data[k]['filename']])\n",
    "    return video_ids\n",
    "\n",
    "video_ids = get_video_ids(data)\n",
    "#print(video_ids.keys())\n",
    "\n",
    "# Check that it worked for the first 2 videos in the first file.\n",
    "print('\\n\\nClip names:\\n',data[list(data.keys())[0]]['filename'][:2])\n",
    "print('\\n\\nClip ids:\\n',list(video_ids.values())[0][:2])\n",
    "\n"
   ]
  },
  {
   "cell_type": "code",
   "execution_count": null,
   "metadata": {},
   "outputs": [],
   "source": [
    "data2 = data['eval/eval.csv']\n",
    "print(data2.keys())\n",
    "print(data2.shape)\n",
    "data2._set_item('hola', video_ids['eval/eval.csv'])\n",
    "print(data2.head())"
   ]
  },
  {
   "cell_type": "code",
   "execution_count": null,
   "metadata": {},
   "outputs": [],
   "source": [
    "data3 = pd.DataFrame()\n",
    "print(data3)\n",
    "data3.append(data2.iloc[0:10])"
   ]
  },
  {
   "cell_type": "code",
   "execution_count": null,
   "metadata": {},
   "outputs": [],
   "source": []
  },
  {
   "cell_type": "code",
   "execution_count": null,
   "metadata": {},
   "outputs": [],
   "source": [
    "dataset = {'x': np.array([[[1,2],[3,4],[5,6]], [[10,20],[30,40],[50,60]]]),\n",
    "    \t\t   'y': np.array([]),\n",
    "    \t\t   'id': np.array([]),\n",
    "    \t\t   'onset': np.array([]),\n",
    "    \t\t   'offset': np.array([]),\n",
    "    \t\t   'event_label': np.array([]),\n",
    "    \t\t   'filename': np.array([])}\n",
    "print(dataset['x'].shape)\n",
    "np.concatenate((dataset['x'],[[[1,2],[3,4],[5,6]], [[10,20],[30,40],[50,60]]]), axis=0)\n",
    "print(dataset['x'].shape)\n",
    "np.append(dataset['x'],[[11,12],[13,14],[15,16], [[100,200],[300,400],[500,600]]], axis=0)\n",
    "print(dataset['x'].shape)"
   ]
  },
  {
   "cell_type": "code",
   "execution_count": 2,
   "metadata": {},
   "outputs": [
    {
     "name": "stdout",
     "output_type": "stream",
     "text": [
      "1\n"
     ]
    }
   ],
   "source": [
    "ids = ['123','456','789']\n",
    "if type(ids[0])==str:\n",
    "    print(1)\n",
    "else:\n",
    "    print(0)"
   ]
  },
  {
   "cell_type": "code",
   "execution_count": null,
   "metadata": {},
   "outputs": [],
   "source": []
  }
 ],
 "metadata": {
  "kernelspec": {
   "display_name": "Python 3",
   "language": "python",
   "name": "python3"
  },
  "language_info": {
   "codemirror_mode": {
    "name": "ipython",
    "version": 3
   },
   "file_extension": ".py",
   "mimetype": "text/x-python",
   "name": "python",
   "nbconvert_exporter": "python",
   "pygments_lexer": "ipython3",
   "version": "3.6.5"
  }
 },
 "nbformat": 4,
 "nbformat_minor": 2
}
