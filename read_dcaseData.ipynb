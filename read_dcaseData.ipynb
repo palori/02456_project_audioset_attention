{
 "cells": [
  {
   "cell_type": "code",
   "execution_count": null,
   "metadata": {},
   "outputs": [],
   "source": [
    "import pandas as pd\n",
    "import matplotlib.pyplot as plt\n",
    "%matplotlib inline\n",
    "#notebook\n",
    "from IPython.display import display\n",
    "pd.options.display.max_columns = None\n",
    "pd.options.display.max_rows = None\n",
    "#import os\n",
    "\n",
    "path = '../dcase2018_baseline/task4/dataset/metadata/'\n",
    "#path = 'DCASE18_task4_meta/'\n",
    "file_name = path+'eval/eval.csv'\n",
    "meta_data = pd.read_csv(file_name,delimiter='\\t',header=0)\n",
    "\n",
    "meta_data.head()"
   ]
  }
 ],
 "metadata": {
  "kernelspec": {
   "display_name": "Python 3",
   "language": "python",
   "name": "python3"
  },
  "language_info": {
   "codemirror_mode": {
    "name": "ipython",
    "version": 3
   },
   "file_extension": ".py",
   "mimetype": "text/x-python",
   "name": "python",
   "nbconvert_exporter": "python",
   "pygments_lexer": "ipython3",
   "version": "3.6.5"
  }
 },
 "nbformat": 4,
 "nbformat_minor": 2
}
