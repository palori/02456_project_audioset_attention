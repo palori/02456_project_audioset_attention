{
 "cells": [
  {
   "cell_type": "markdown",
   "metadata": {},
   "source": [
    "# RESULTS - Audio event detection"
   ]
  },
  {
   "cell_type": "code",
   "execution_count": null,
   "metadata": {
    "scrolled": true
   },
   "outputs": [],
   "source": [
    "# All functions to test the network and present\n",
    "# the results can be found in the 'visualization'\n",
    "# library, created specifically for this project.\n",
    "import visualisation as v\n",
    "\n",
    "# Just calling this function will present the\n",
    "# results. The plots are automatically saved in\n",
    "# the 'figures' folder.\n",
    "# Run it twice to see the figure in here.\n",
    "v.test_real_data(time_ax=False, figure_name='figures/auc_classes.png')\n"
   ]
  },
  {
   "cell_type": "code",
   "execution_count": null,
   "metadata": {},
   "outputs": [],
   "source": [
    "v.test_real_data(time_ax=True, figure_name='figures/auc_time.png')"
   ]
  },
  {
   "cell_type": "code",
   "execution_count": null,
   "metadata": {},
   "outputs": [],
   "source": []
  }
 ],
 "metadata": {
  "kernelspec": {
   "display_name": "Python 3",
   "language": "python",
   "name": "python3"
  },
  "language_info": {
   "codemirror_mode": {
    "name": "ipython",
    "version": 3
   },
   "file_extension": ".py",
   "mimetype": "text/x-python",
   "name": "python",
   "nbconvert_exporter": "python",
   "pygments_lexer": "ipython3",
   "version": "3.6.5"
  }
 },
 "nbformat": 4,
 "nbformat_minor": 2
}
