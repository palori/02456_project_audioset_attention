{
 "cells": [
  {
   "cell_type": "code",
   "execution_count": null,
   "metadata": {},
   "outputs": [],
   "source": [
    "### How they do it in the Readme file ###\n",
    "import numpy as np\n",
    "import h5py\n",
    "\n",
    "def load_data(hdf5_path):\n",
    "    with h5py.File(hdf5_path, 'r') as hf:\n",
    "        x = hf.get('x')\n",
    "        y = hf.get('y')\n",
    "        video_id_list = hf.get('video_id_list')\n",
    "        x = np.array(x)\n",
    "        y = list(y)\n",
    "        video_id_list = list(video_id_list)\n",
    "        \n",
    "    return x, y, video_id_list\n",
    "\n",
    "def uint8_to_float32(x):\n",
    "    return (np.float32(x) - 128.) / 128.\n",
    "    \n",
    "def bool_to_float32(y):\n",
    "    return np.float32(y)\n",
    "\n",
    "path = '../packed_features/' #just if they can be found in other folders\n",
    "files = ['bal_train','eval'] #forget about the 'unbal_train'S\n",
    "extension = '.h5'\n",
    "data = {}\n",
    "for f in files:\n",
    "    \n",
    "    data[f] = {}\n",
    "    hdf5_path = path+f+extension\n",
    "    print('\\nReading data from: '+hdf5_path)\n",
    "    \n",
    "    (x, y, video_id_list) = load_data(hdf5_path)\n",
    "    x = uint8_to_float32(x)\t\t# shape: (N, 10, 128)\n",
    "    y = bool_to_float32(y)\t\t# shape: (N, 527)\n",
    "    data[f]['x'] = x\n",
    "    data[f]['y'] = y\n",
    "    data[f]['video_id_list'] = video_id_list\n",
    "    \n",
    "    # print info\n",
    "    print('x',x.shape)\n",
    "    print('y',y.shape)\n",
    "    print('video id',len(video_id_list))\n",
    "    "
   ]
  },
  {
   "cell_type": "code",
   "execution_count": null,
   "metadata": {},
   "outputs": [],
   "source": [
    "# Let's have a look at some of the data\n",
    "for d in data.keys():\n",
    "    print('\\n\\n'+d+':')\n",
    "    params = ['x','y','video_id_list']\n",
    "    for p in params:\n",
    "        print('\\n'+p+':')\n",
    "        print(data[d][p][0])"
   ]
  },
  {
   "cell_type": "code",
   "execution_count": null,
   "metadata": {},
   "outputs": [],
   "source": []
  }
 ],
 "metadata": {
  "kernelspec": {
   "display_name": "Python 3",
   "language": "python",
   "name": "python3"
  },
  "language_info": {
   "codemirror_mode": {
    "name": "ipython",
    "version": 3
   },
   "file_extension": ".py",
   "mimetype": "text/x-python",
   "name": "python",
   "nbconvert_exporter": "python",
   "pygments_lexer": "ipython3",
   "version": "3.6.5"
  }
 },
 "nbformat": 4,
 "nbformat_minor": 2
}
